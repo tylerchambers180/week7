{
 "cells": [
  {
   "cell_type": "markdown",
   "metadata": {},
   "source": [
    "# Plotting COD Maps "
   ]
  },
  {
   "cell_type": "code",
   "execution_count": 3,
   "metadata": {},
   "outputs": [],
   "source": [
    "import os\n",
    "import sys\n",
    "import json\n",
    "import matplotlib.pyplot as plt\n",
    "from matplotlib.backends.backend_agg import FigureCanvasAgg as FigureCanvas\n",
    "from matplotlib.figure import Figure"
   ]
  },
  {
   "cell_type": "code",
   "execution_count": 4,
   "metadata": {},
   "outputs": [],
   "source": [
    "PATH_TO_WW2_MAPS ='../week6/cwl-data/maps/ww2/'\n",
    "\n",
    "MAP_IMAGES = {\n",
    "    'Aachen': 'aachen.png',\n",
    "    'Ardennes Forest': 'ardennes_forest.png',\n",
    "    'Flak Tower': 'flaktower.png',\n",
    "    'Gibraltar': 'gibraltar.png',\n",
    "    'London Docks': 'london_docks.png',\n",
    "    'Sainte Marie du Mont': 'sainte_marie_du_mont.png' ,\n",
    "    'USS Texas': 'uss_texas.png',\n",
    "    'Valkyrie': 'valkyrie.png'\n",
    "}"
   ]
  },
  {
   "cell_type": "code",
   "execution_count": 10,
   "metadata": {},
   "outputs": [
    {
     "ename": "KeyError",
     "evalue": "'?'",
     "output_type": "error",
     "traceback": [
      "\u001b[0;31m---------------------------------------------------------------------------\u001b[0m",
      "\u001b[0;31mKeyError\u001b[0m                                  Traceback (most recent call last)",
      "\u001b[0;32m<ipython-input-10-f037458004e9>\u001b[0m in \u001b[0;36m<module>\u001b[0;34m\u001b[0m\n\u001b[1;32m     33\u001b[0m \u001b[0;34m\u001b[0m\u001b[0m\n\u001b[1;32m     34\u001b[0m                 \u001b[0;31m# get map image\u001b[0m\u001b[0;34m\u001b[0m\u001b[0;34m\u001b[0m\u001b[0;34m\u001b[0m\u001b[0m\n\u001b[0;32m---> 35\u001b[0;31m                 \u001b[0mmap_file_name\u001b[0m \u001b[0;34m=\u001b[0m \u001b[0mPATH_TO_WW2_MAPS\u001b[0m \u001b[0;34m+\u001b[0m \u001b[0mMAP_IMAGES\u001b[0m\u001b[0;34m[\u001b[0m\u001b[0mmatch\u001b[0m\u001b[0;34m[\u001b[0m\u001b[0;34m'map'\u001b[0m\u001b[0;34m]\u001b[0m\u001b[0;34m]\u001b[0m\u001b[0;34m\u001b[0m\u001b[0;34m\u001b[0m\u001b[0m\n\u001b[0m\u001b[1;32m     36\u001b[0m                 \u001b[0mmap_image\u001b[0m \u001b[0;34m=\u001b[0m \u001b[0mplt\u001b[0m\u001b[0;34m.\u001b[0m\u001b[0mimread\u001b[0m\u001b[0;34m(\u001b[0m\u001b[0mmap_file_name\u001b[0m\u001b[0;34m)\u001b[0m\u001b[0;34m\u001b[0m\u001b[0;34m\u001b[0m\u001b[0m\n\u001b[1;32m     37\u001b[0m \u001b[0;34m\u001b[0m\u001b[0m\n",
      "\u001b[0;31mKeyError\u001b[0m: '?'"
     ]
    }
   ],
   "source": [
    "directory_in_str = '/home/vagrant/work/week7'\n",
    "\n",
    "directory = os.fsencode(directory_in_str)\n",
    "\n",
    "for file in os.listdir(directory):\n",
    "     filename = os.fsdecode(file)\n",
    "     EVENT = os.fsdecode(filename) + \"/\"\n",
    "     if filename.endswith(\".gz\") or filename.endswith(\".png\") or filename.endswith(\".ipynb\") or filename.endswith(\".git\") or filename.endswith(\".sh\") or filename.endswith(\"checkpoints\"): \n",
    "        continue\n",
    "     else:\n",
    "        newdir = os.path.join(directory, os.fsencode(filename))\n",
    "        for file in os.listdir(newdir):\n",
    "            MATCH = os.fsdecode(file)\n",
    "            with open('./{}{}'.format(EVENT, MATCH), 'r') as match_file:\n",
    "                # get match data\n",
    "                match = json.load(match_file)\n",
    "\n",
    "                kill_pos, death_pos, spawn_pos = {'x': [], 'y': []}, {'x': [], 'y': []}, {'x': [], 'y': []}\n",
    "    \n",
    "                # get pos data\n",
    "                events = match['events']\n",
    "                spawn_pos['x'] = []\n",
    "                spawn_pos['y'] = []\n",
    "                death_pos['x'] = []\n",
    "                death_pos['y'] = []\n",
    "                for evt in events:\n",
    "                    if evt['type'] == 'spawn':\n",
    "                        spawn_pos['x'].append( evt['data']['pos']['x'] )\n",
    "                        spawn_pos['y'].append( evt['data']['pos']['y'] )\n",
    "                    if evt['type'] == 'death':\n",
    "                        death_pos['x'].append( evt['data']['pos']['x'] )\n",
    "                        death_pos['y'].append( evt['data']['pos']['y'] )\n",
    "\n",
    "                # get map image\n",
    "                map_file_name = PATH_TO_WW2_MAPS + MAP_IMAGES[match['map']]\n",
    "                map_image = plt.imread(map_file_name)\n",
    "    \n",
    "                # create figure\n",
    "                fig = Figure()\n",
    "                FigureCanvas(fig)\n",
    "                ax = fig.subplots(1,1)\n",
    "                fig.set_figheight(15)\n",
    "                fig.set_figwidth(15)\n",
    "                # plot map\n",
    "                ax.imshow(map_image)\n",
    "                ax.set_facecolor((210/255.0, 210/255.0, 210/255.0))\n",
    "                # plot spawns\n",
    "                ax.scatter(spawn_pos['x'], spawn_pos['y'], color='cyan')\n",
    "                # plot death events\n",
    "                ax.scatter(death_pos['x'], death_pos['y'], color='red')\n",
    "                # plot spawn/death vectors\n",
    "                ax.set_title('{} ({})'.format(match['map'], match['mode']))\n",
    "                fig.savefig(str(MATCH) + \".png\")\n",
    "        continue\n",
    "        "
   ]
  },
  {
   "cell_type": "code",
   "execution_count": null,
   "metadata": {},
   "outputs": [],
   "source": []
  }
 ],
 "metadata": {
  "kernelspec": {
   "display_name": "Python 3",
   "language": "python",
   "name": "python3"
  },
  "language_info": {
   "codemirror_mode": {
    "name": "ipython",
    "version": 3
   },
   "file_extension": ".py",
   "mimetype": "text/x-python",
   "name": "python",
   "nbconvert_exporter": "python",
   "pygments_lexer": "ipython3",
   "version": "3.7.2"
  }
 },
 "nbformat": 4,
 "nbformat_minor": 2
}
